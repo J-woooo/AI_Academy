{
  "nbformat": 4,
  "nbformat_minor": 0,
  "metadata": {
    "colab": {
      "name": "1주차.ipynb",
      "provenance": [],
      "collapsed_sections": [],
      "authorship_tag": "ABX9TyO/YUw8ZWfSt78UXqImhuLV",
      "include_colab_link": true
    },
    "kernelspec": {
      "name": "python3",
      "display_name": "Python 3"
    }
  },
  "cells": [
    {
      "cell_type": "markdown",
      "metadata": {
        "id": "view-in-github",
        "colab_type": "text"
      },
      "source": [
        "<a href=\"https://colab.research.google.com/github/J-woooo/AI_Academy/blob/master/1%EC%A3%BC%EC%B0%A8.ipynb\" target=\"_parent\"><img src=\"https://colab.research.google.com/assets/colab-badge.svg\" alt=\"Open In Colab\"/></a>"
      ]
    },
    {
      "cell_type": "markdown",
      "metadata": {
        "id": "NeZfxmqFvxN2",
        "colab_type": "text"
      },
      "source": [
        "# 테스트"
      ]
    },
    {
      "cell_type": "markdown",
      "metadata": {
        "id": "IqR0VT37vuhr",
        "colab_type": "text"
      },
      "source": [
        ""
      ]
    },
    {
      "cell_type": "markdown",
      "metadata": {
        "id": "X0Dd-p8c1kIt",
        "colab_type": "text"
      },
      "source": [
        "# 1주차 과제"
      ]
    },
    {
      "cell_type": "markdown",
      "metadata": {
        "id": "rWoSeXOw3y4e",
        "colab_type": "text"
      },
      "source": [
        "---\n",
        "## 1. 언어\n",
        "### 악성 댓글 차단\n",
        "#### AI 기술로 악플을 관리하는 것이 가능하다. 과거에는 악플을 잡기 위해 관리자가 악플에 해당되는 어휘를 입력해 이에 해당하면 욕설, 인격 모독 댓글로 인식하여 차단하였다. 하지만 미리 입력한 차단 단어를 교묘히 회피해서 입력하는 어휘 변형식 악플은 막을 수가 없었다. 이 분야에 인공지능 기술을 접목시켜 악플의 패턴을 학습시킨 뒤에 도입하면 변형적인 악플에도 적응해 대응할 수 있다.\n",
        "---\n",
        "## 2. 음성\n",
        "### 솔루게이트 음성인식 기술\n",
        "\n",
        "#### 인공지능을 적용시킨 음성인식 기술은 현재 다방면으로 발전하고 있지만 솔루게이트의 음성인식 기술이 돋보인다. 이 음성인식 엔진은 사람의 음성에서 감성 등을 분석할 수 있는 감정정보 추출 장치와 방법에 대한 특허를 바탕으로 음성인식과 동시에 사용자의 감정상태, 문장의 형태까지 분석하여 정보를 제공한다. 이러한 경향은 향후에 음성인식 기술이 다양한 분야로 발전할 수 있음을 보여준다.\n",
        "---\n",
        "## 3. 이미지\n",
        "### 뷰노(VUNO)의 의료 이미지 분석 기술\n",
        "#### 이미지 인식 기술이 의료영상 분석 분야에 적용되어 빠르게 성장하고 있고 뷰노의 의료영상 분석 기술은 업계에서 선두를 달리고 있다. 전문 의료인이 시간을 들여서 판단해야 하는 의료영상을 훈련된 AI가 빠르게 판단하여 질병의 유무를 파악해 의료 지식이 없는 비전문인도 파악할 수 있는 쉬운 GUI로 이상유무를 알려준다.\n",
        "---\n",
        "## 4. 자율주행\n",
        "### 구글 웨이모\n",
        "#### 자율주행 자동차 시장은 딥러닝이 적용되기 전후로 입지가 바뀌었다고 말해도 과언이 아니다. 현재 자율주행 자동차 기술의 정상급 입지를 지키고 있는 구글의 웨이모는 알파고를 만들었던 구글 딥마인드의 기술력을 빌려 강화학습을 적용한 인공지능 자율주행 자동차를 만들었다. 웨이모의 자율주행 택시는 자율주행 기술 4단계 수준으로 현재 평가되고 있다. 이는 운전자의 제어가 없는 수준으로 만약의 사태에 대비해 운전자가 필요하지만 자율주행 완성도가 굉장히 높다."
      ]
    },
    {
      "cell_type": "markdown",
      "metadata": {
        "id": "-xJi9KJG3zfK",
        "colab_type": "text"
      },
      "source": [
        ""
      ]
    }
  ]
}